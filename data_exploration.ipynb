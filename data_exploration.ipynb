{
 "cells": [
  {
   "cell_type": "code",
   "execution_count": null,
   "id": "0",
   "metadata": {},
   "outputs": [],
   "source": [
    "import polars as pl\n",
    "\n",
    "root = \"/Users/robin/Documents/datasets/mimic-iv-demo-data-in-the-omop-common-data-model-0.9/1_omop_data_csv\""
   ]
  },
  {
   "cell_type": "code",
   "execution_count": null,
   "id": "1",
   "metadata": {},
   "outputs": [],
   "source": [
    "concept = pl.read_csv(\n",
    "    \"/Users/robin/Documents/datasets/mimic-iv-demo-data-in-the-omop-common-data-model-0.9/1_omop_data_csv/concept.csv\"\n",
    ")\n",
    "observation = pl.read_csv(\n",
    "    \"/Users/robin/Documents/datasets/mimic-iv-demo-data-in-the-omop-common-data-model-0.9/1_omop_data_csv/observation.csv\"\n",
    ")\n",
    "measurement = pl.read_csv(\n",
    "    \"/Users/robin/Documents/datasets/mimic-iv-\"\n",
    "    \"demo-data-in-the-omop-common-data-model-0.9/1_omop_data_csv/measurement.csv\",\n",
    "    ignore_errors=True,\n",
    ")\n",
    "measurement.join(concept, left_on=\"measurement_source_concept_id\", right_on=\"concept_id\")"
   ]
  },
  {
   "cell_type": "code",
   "execution_count": null,
   "id": "2",
   "metadata": {},
   "outputs": [],
   "source": [
    "measurement.filter(pl.col(\"person_id\") == 3912882389848878631)"
   ]
  },
  {
   "cell_type": "code",
   "execution_count": null,
   "id": "3",
   "metadata": {},
   "outputs": [],
   "source": [
    "observation[\"observation_source_concept_id\"].value_counts()"
   ]
  },
  {
   "cell_type": "code",
   "execution_count": null,
   "id": "4",
   "metadata": {},
   "outputs": [],
   "source": [
    "observation"
   ]
  },
  {
   "cell_type": "code",
   "execution_count": null,
   "id": "5",
   "metadata": {},
   "outputs": [],
   "source": [
    "concept"
   ]
  },
  {
   "cell_type": "code",
   "execution_count": null,
   "id": "6",
   "metadata": {},
   "outputs": [],
   "source": [
    "from pathlib import Path\n",
    "\n",
    "import polars as pl\n",
    "\n",
    "\n",
    "def print_csv_columns_in_directory(directory_path: str) -> None:\n",
    "    \"\"\"\n",
    "    Prints the CSV file name and all the columns in each CSV file in the given directory.\n",
    "\n",
    "    :param directory_path: Path to the directory containing CSV files\n",
    "    \"\"\"\n",
    "    directory_path = Path(directory_path)\n",
    "    if not directory_path.is_dir():\n",
    "        print(f\"{directory_path} is not a valid directory.\")\n",
    "        return\n",
    "\n",
    "    csv_files = directory_path.rglob(\"*.csv\")\n",
    "    for file_path in csv_files:\n",
    "        if file_path.is_file():\n",
    "            df = pl.read_csv(file_path, infer_schema_length=10000, ignore_errors=True)\n",
    "            print(f\"File: {file_path.name}\")\n",
    "            print(\"Columns:\")\n",
    "            for column in df.columns:\n",
    "                print(f'\"{column}\",')\n",
    "            print()  # Add a blank line between files\n",
    "\n",
    "\n",
    "# Example usage\n",
    "print_csv_columns_in_directory(root)"
   ]
  },
  {
   "cell_type": "code",
   "execution_count": null,
   "id": "7",
   "metadata": {},
   "outputs": [],
   "source": [
    "pl.read_csv(root + \"/person.csv\")"
   ]
  },
  {
   "cell_type": "code",
   "execution_count": null,
   "id": "8",
   "metadata": {},
   "outputs": [],
   "source": [
    "pl.read_parquet(\"/Users/robin/Documents/datasets/meds/miiv_demo_omop/MEDS_cohort/metadata/codes.parquet\")"
   ]
  },
  {
   "cell_type": "code",
   "execution_count": null,
   "id": "9",
   "metadata": {},
   "outputs": [],
   "source": [
    "pl.read_parquet(\"/Users/robin/Documents/datasets/meds/miiv_demo_omop/pre_MEDS/person.parquet\")"
   ]
  },
  {
   "cell_type": "code",
   "execution_count": null,
   "id": "10",
   "metadata": {},
   "outputs": [],
   "source": [
    "pl.read_parquet(\"/Users/robin/Documents/datasets/meds/miiv_demo_omop/pre_MEDS/visits.parquet\").with_columns(\n",
    "    pl.col(\"visit_source_concept_id\").cast(pl.Int64)\n",
    ").join(concept, left_on=\"visit_source_concept_id\", right_on=\"concept_id\")"
   ]
  }
 ],
 "metadata": {
  "kernelspec": {
   "display_name": "Python 3",
   "language": "python",
   "name": "python3"
  },
  "language_info": {
   "codemirror_mode": {
    "name": "ipython",
    "version": 2
   },
   "file_extension": ".py",
   "mimetype": "text/x-python",
   "name": "python",
   "nbconvert_exporter": "python",
   "pygments_lexer": "ipython2",
   "version": "2.7.6"
  }
 },
 "nbformat": 4,
 "nbformat_minor": 5
}
